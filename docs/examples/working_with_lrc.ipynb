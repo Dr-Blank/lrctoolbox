{
 "cells": [
  {
   "cell_type": "markdown",
   "metadata": {},
   "source": [
    "# Woking with .lrc files\n"
   ]
  },
  {
   "cell_type": "markdown",
   "metadata": {},
   "source": [
    "install dependencies\n"
   ]
  },
  {
   "cell_type": "code",
   "execution_count": 1,
   "metadata": {},
   "outputs": [],
   "source": [
    "%pip install lrctoolbox\n",
    "from IPython.display import clear_output\n",
    "clear_output()\n"
   ]
  },
  {
   "cell_type": "markdown",
   "metadata": {},
   "source": [
    "## Load lyrics from .lrc file\n"
   ]
  },
  {
   "cell_type": "code",
   "execution_count": 2,
   "metadata": {},
   "outputs": [],
   "source": [
    "from lrctoolbox import SyncedLyrics\n",
    "\n",
    "# Load LRC file\n",
    "lyrics = SyncedLyrics.load_from_file(\"example.lrc\")"
   ]
  },
  {
   "cell_type": "markdown",
   "metadata": {},
   "source": [
    "## Modify lyrics timestamp"
   ]
  },
  {
   "cell_type": "code",
   "execution_count": 3,
   "metadata": {},
   "outputs": [
    {
     "name": "stdout",
     "output_type": "stream",
     "text": [
      "['[00:27.76] Silent night, holy night', '[00:34.10] All is calm and all is bright', '[00:40.14] Round yon virgin mother and child', '[00:46.70] Holy infant so tender and mild']\n",
      "['[00:28.76] Silent night, holy night', '[00:35.10] All is calm and all is bright', '[00:41.14] Round yon virgin mother and child', '[00:47.70] Holy infant so tender and mild']\n"
     ]
    }
   ],
   "source": [
    "# check if lyrics are synced\n",
    "assert lyrics.is_synced\n",
    "\n",
    "# get lyrics as string\n",
    "print(lyrics.lyrics)\n",
    "\n",
    "# shift lyrics by 1 second\n",
    "for line in lyrics.synced_lines:\n",
    "    line.timestamp += 1000\n",
    "\n",
    "# print shifted lyrics\n",
    "print(lyrics.lyrics)"
   ]
  },
  {
   "cell_type": "markdown",
   "metadata": {},
   "source": [
    "## Modify lyrics metadata\n"
   ]
  },
  {
   "cell_type": "code",
   "execution_count": 4,
   "metadata": {},
   "outputs": [
    {
     "name": "stdout",
     "output_type": "stream",
     "text": [
      "Artist: Taylor Swift\n",
      "Title: Silent night\n",
      "Artist: New Artist\n",
      "Title: New Title\n"
     ]
    }
   ],
   "source": [
    "print(f\"Artist: {lyrics.artist}\", f\"Title: {lyrics.title}\", sep=\"\\n\")\n",
    "# change the artist\n",
    "lyrics.artist = \"New Artist\"\n",
    "\n",
    "# change the title\n",
    "lyrics.title = \"New Title\"\n",
    "\n",
    "print(f\"Artist: {lyrics.artist}\", f\"Title: {lyrics.title}\", sep=\"\\n\")"
   ]
  }
 ],
 "metadata": {
  "kernelspec": {
   "display_name": "Python 3",
   "language": "python",
   "name": "python3"
  },
  "language_info": {
   "codemirror_mode": {
    "name": "ipython",
    "version": 3
   },
   "file_extension": ".py",
   "mimetype": "text/x-python",
   "name": "python",
   "nbconvert_exporter": "python",
   "pygments_lexer": "ipython3",
   "version": "3.11.0b1"
  }
 },
 "nbformat": 4,
 "nbformat_minor": 2
}
